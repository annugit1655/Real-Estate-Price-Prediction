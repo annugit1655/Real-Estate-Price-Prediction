{
 "cells": [
  {
   "cell_type": "code",
   "execution_count": 6,
   "metadata": {},
   "outputs": [],
   "source": [
    "import pandas as pd\n",
    "import numpy as np\n",
    "import matplotlib.pyplot as plt\n",
    "import seaborn as sns\n",
    "import sidetable\n",
    "import sklearn\n",
    "import feature_engine\n",
    "import scipy\n",
    "import dvc \n",
    "import kaggle\n",
    "import os\n",
    "import zipfile"
   ]
  },
  {
   "cell_type": "code",
   "execution_count": 11,
   "metadata": {},
   "outputs": [
    {
     "name": "stdout",
     "output_type": "stream",
     "text": [
      "['data_description.txt', 'sample_submission.csv', 'test.csv', 'train.csv']\n"
     ]
    }
   ],
   "source": [
    "zf = zipfile.ZipFile('E://house_price_prediction//Real-Estate-Price-Prediction//data//raw//house-prices-advanced-regression-techniques.zip') \n",
    "submission = pd.read_csv(zf.open('sample_submission.csv'))\n",
    "test = pd.read_csv(zf.open('test.csv'))\n",
    "train = pd.read_csv(zf.open('train.csv'))\n",
    "description = pd.read_csv(zf.open('data_description.txt'),sep='\\t',on_bad_lines='skip')\n",
    "\n",
    "print(zf.namelist())"
   ]
  },
  {
   "cell_type": "code",
   "execution_count": 74,
   "metadata": {},
   "outputs": [
    {
     "data": {
      "text/html": [
       "<div>\n",
       "<style scoped>\n",
       "    .dataframe tbody tr th:only-of-type {\n",
       "        vertical-align: middle;\n",
       "    }\n",
       "\n",
       "    .dataframe tbody tr th {\n",
       "        vertical-align: top;\n",
       "    }\n",
       "\n",
       "    .dataframe thead th {\n",
       "        text-align: right;\n",
       "    }\n",
       "</style>\n",
       "<table border=\"1\" class=\"dataframe\">\n",
       "  <thead>\n",
       "    <tr style=\"text-align: right;\">\n",
       "      <th></th>\n",
       "      <th>MSSubClass: Identifies the type of dwelling involved in the sale.</th>\n",
       "      <th>Unnamed: 1</th>\n",
       "    </tr>\n",
       "  </thead>\n",
       "  <tbody>\n",
       "    <tr>\n",
       "      <th>0</th>\n",
       "      <td>20</td>\n",
       "      <td>1-STORY 1946 &amp; NEWER ALL STYLES</td>\n",
       "    </tr>\n",
       "    <tr>\n",
       "      <th>1</th>\n",
       "      <td>30</td>\n",
       "      <td>1-STORY 1945 &amp; OLDER</td>\n",
       "    </tr>\n",
       "    <tr>\n",
       "      <th>2</th>\n",
       "      <td>40</td>\n",
       "      <td>1-STORY W/FINISHED ATTIC ALL AGES</td>\n",
       "    </tr>\n",
       "    <tr>\n",
       "      <th>3</th>\n",
       "      <td>45</td>\n",
       "      <td>1-1/2 STORY - UNFINISHED ALL AGES</td>\n",
       "    </tr>\n",
       "    <tr>\n",
       "      <th>4</th>\n",
       "      <td>50</td>\n",
       "      <td>1-1/2 STORY FINISHED ALL AGES</td>\n",
       "    </tr>\n",
       "    <tr>\n",
       "      <th>...</th>\n",
       "      <td>...</td>\n",
       "      <td>...</td>\n",
       "    </tr>\n",
       "    <tr>\n",
       "      <th>389</th>\n",
       "      <td>Normal</td>\n",
       "      <td>Normal Sale</td>\n",
       "    </tr>\n",
       "    <tr>\n",
       "      <th>390</th>\n",
       "      <td>Abnorml</td>\n",
       "      <td>Abnormal Sale -  trade, foreclosure, short sale</td>\n",
       "    </tr>\n",
       "    <tr>\n",
       "      <th>391</th>\n",
       "      <td>AdjLand</td>\n",
       "      <td>Adjoining Land Purchase</td>\n",
       "    </tr>\n",
       "    <tr>\n",
       "      <th>392</th>\n",
       "      <td>Family</td>\n",
       "      <td>Sale between family members</td>\n",
       "    </tr>\n",
       "    <tr>\n",
       "      <th>393</th>\n",
       "      <td>Partial</td>\n",
       "      <td>Home was not completed when last assessed (ass...</td>\n",
       "    </tr>\n",
       "  </tbody>\n",
       "</table>\n",
       "<p>394 rows × 2 columns</p>\n",
       "</div>"
      ],
      "text/plain": [
       "    MSSubClass: Identifies the type of dwelling involved in the sale.  \\\n",
       "0                                                   20                  \n",
       "1                                                   30                  \n",
       "2                                                   40                  \n",
       "3                                                   45                  \n",
       "4                                                   50                  \n",
       "..                                                 ...                  \n",
       "389                                             Normal                  \n",
       "390                                            Abnorml                  \n",
       "391                                            AdjLand                  \n",
       "392                                             Family                  \n",
       "393                                            Partial                  \n",
       "\n",
       "                                            Unnamed: 1  \n",
       "0                      1-STORY 1946 & NEWER ALL STYLES  \n",
       "1                                 1-STORY 1945 & OLDER  \n",
       "2                    1-STORY W/FINISHED ATTIC ALL AGES  \n",
       "3                    1-1/2 STORY - UNFINISHED ALL AGES  \n",
       "4                        1-1/2 STORY FINISHED ALL AGES  \n",
       "..                                                 ...  \n",
       "389                                        Normal Sale  \n",
       "390    Abnormal Sale -  trade, foreclosure, short sale  \n",
       "391                            Adjoining Land Purchase  \n",
       "392                        Sale between family members  \n",
       "393  Home was not completed when last assessed (ass...  \n",
       "\n",
       "[394 rows x 2 columns]"
      ]
     },
     "execution_count": 74,
     "metadata": {},
     "output_type": "execute_result"
    }
   ],
   "source": [
    "description"
   ]
  },
  {
   "cell_type": "code",
   "execution_count": null,
   "metadata": {},
   "outputs": [],
   "source": []
  },
  {
   "cell_type": "code",
   "execution_count": null,
   "metadata": {},
   "outputs": [],
   "source": []
  },
  {
   "cell_type": "code",
   "execution_count": null,
   "metadata": {},
   "outputs": [],
   "source": []
  }
 ],
 "metadata": {
  "kernelspec": {
   "display_name": "housepy",
   "language": "python",
   "name": "python3"
  },
  "language_info": {
   "codemirror_mode": {
    "name": "ipython",
    "version": 3
   },
   "file_extension": ".py",
   "mimetype": "text/x-python",
   "name": "python",
   "nbconvert_exporter": "python",
   "pygments_lexer": "ipython3",
   "version": "3.13.0"
  }
 },
 "nbformat": 4,
 "nbformat_minor": 4
}
