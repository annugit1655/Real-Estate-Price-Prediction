{
 "cells": [
  {
   "cell_type": "markdown",
   "metadata": {},
   "source": [
    "<a id=\"section_ID\"></a> <br>\n",
    " # Table of Contents\n",
    " 1. [Introduction](#1)\n",
    "    1. [Business Objective](#7)\n",
    "    2. [Problem Statement](#8)\n",
    "2. [Exploratory Data Anlaysis](#2)\n",
    "   1. [Data Ingestion & Understanding](#7)\n",
    "   2. [Univariate & Multivariate Feature Analysis](#8)"
   ]
  },
  {
   "cell_type": "markdown",
   "metadata": {},
   "source": [
    "# Introduction"
   ]
  },
  {
   "cell_type": "markdown",
   "metadata": {},
   "source": [
    "# Business Objective\n",
    "\n",
    "In today's dynamic real estate market, accurate house price prediction is crucial for various stakeholders:\n",
    " - **Home Buyers** : Want to ensure making fair offers.\n",
    " - **Sellers** : Need to set compeitive listing prices.\n",
    " - **Real Estate Agents** : Need reliable price estimates to advise clinets effectively.\n",
    " - **Investors** : Require accurate valuation for investment decisions."
   ]
  },
  {
   "cell_type": "markdown",
   "metadata": {},
   "source": [
    "# Problem Statement\n",
    "This project implements a machine learning solution to analyze various house dimensions to predict sale prices, helping stakeholders to make data-driven decisions."
   ]
  },
  {
   "cell_type": "markdown",
   "metadata": {},
   "source": [
    "# Exploratory Data Analysis"
   ]
  },
  {
   "cell_type": "code",
   "execution_count": 1,
   "metadata": {},
   "outputs": [],
   "source": [
    "import pandas as pd\n",
    "import numpy as np\n",
    "import matplotlib.pyplot as plt\n",
    "import seaborn as sns\n",
    "import sidetable\n",
    "import sklearn\n",
    "import feature_engine\n",
    "import scipy\n",
    "import dvc \n",
    "import kaggle\n",
    "import os\n",
    "import zipfile\n"
   ]
  },
  {
   "cell_type": "markdown",
   "metadata": {},
   "source": [
    "## Data Ingestion & Understanding"
   ]
  },
  {
   "cell_type": "code",
   "execution_count": null,
   "metadata": {},
   "outputs": [],
   "source": []
  },
  {
   "cell_type": "code",
   "execution_count": 11,
   "metadata": {},
   "outputs": [
    {
     "name": "stdout",
     "output_type": "stream",
     "text": [
      "['data_description.txt', 'sample_submission.csv', 'test.csv', 'train.csv']\n"
     ]
    }
   ],
   "source": [
    "zf = zipfile.ZipFile('E://house_price_prediction//Real-Estate-Price-Prediction//data//raw//house-prices-advanced-regression-techniques.zip') \n",
    "submission = pd.read_csv(zf.open('sample_submission.csv'))\n",
    "test = pd.read_csv(zf.open('test.csv'))\n",
    "train = pd.read_csv(zf.open('train.csv'))\n",
    "description = pd.read_csv(zf.open('data_description.txt'),sep='\\t',on_bad_lines='skip')\n",
    "\n",
    "print(zf.namelist())"
   ]
  },
  {
   "cell_type": "code",
   "execution_count": 74,
   "metadata": {},
   "outputs": [
    {
     "data": {
      "text/html": [
       "<div>\n",
       "<style scoped>\n",
       "    .dataframe tbody tr th:only-of-type {\n",
       "        vertical-align: middle;\n",
       "    }\n",
       "\n",
       "    .dataframe tbody tr th {\n",
       "        vertical-align: top;\n",
       "    }\n",
       "\n",
       "    .dataframe thead th {\n",
       "        text-align: right;\n",
       "    }\n",
       "</style>\n",
       "<table border=\"1\" class=\"dataframe\">\n",
       "  <thead>\n",
       "    <tr style=\"text-align: right;\">\n",
       "      <th></th>\n",
       "      <th>MSSubClass: Identifies the type of dwelling involved in the sale.</th>\n",
       "      <th>Unnamed: 1</th>\n",
       "    </tr>\n",
       "  </thead>\n",
       "  <tbody>\n",
       "    <tr>\n",
       "      <th>0</th>\n",
       "      <td>20</td>\n",
       "      <td>1-STORY 1946 &amp; NEWER ALL STYLES</td>\n",
       "    </tr>\n",
       "    <tr>\n",
       "      <th>1</th>\n",
       "      <td>30</td>\n",
       "      <td>1-STORY 1945 &amp; OLDER</td>\n",
       "    </tr>\n",
       "    <tr>\n",
       "      <th>2</th>\n",
       "      <td>40</td>\n",
       "      <td>1-STORY W/FINISHED ATTIC ALL AGES</td>\n",
       "    </tr>\n",
       "    <tr>\n",
       "      <th>3</th>\n",
       "      <td>45</td>\n",
       "      <td>1-1/2 STORY - UNFINISHED ALL AGES</td>\n",
       "    </tr>\n",
       "    <tr>\n",
       "      <th>4</th>\n",
       "      <td>50</td>\n",
       "      <td>1-1/2 STORY FINISHED ALL AGES</td>\n",
       "    </tr>\n",
       "    <tr>\n",
       "      <th>...</th>\n",
       "      <td>...</td>\n",
       "      <td>...</td>\n",
       "    </tr>\n",
       "    <tr>\n",
       "      <th>389</th>\n",
       "      <td>Normal</td>\n",
       "      <td>Normal Sale</td>\n",
       "    </tr>\n",
       "    <tr>\n",
       "      <th>390</th>\n",
       "      <td>Abnorml</td>\n",
       "      <td>Abnormal Sale -  trade, foreclosure, short sale</td>\n",
       "    </tr>\n",
       "    <tr>\n",
       "      <th>391</th>\n",
       "      <td>AdjLand</td>\n",
       "      <td>Adjoining Land Purchase</td>\n",
       "    </tr>\n",
       "    <tr>\n",
       "      <th>392</th>\n",
       "      <td>Family</td>\n",
       "      <td>Sale between family members</td>\n",
       "    </tr>\n",
       "    <tr>\n",
       "      <th>393</th>\n",
       "      <td>Partial</td>\n",
       "      <td>Home was not completed when last assessed (ass...</td>\n",
       "    </tr>\n",
       "  </tbody>\n",
       "</table>\n",
       "<p>394 rows × 2 columns</p>\n",
       "</div>"
      ],
      "text/plain": [
       "    MSSubClass: Identifies the type of dwelling involved in the sale.  \\\n",
       "0                                                   20                  \n",
       "1                                                   30                  \n",
       "2                                                   40                  \n",
       "3                                                   45                  \n",
       "4                                                   50                  \n",
       "..                                                 ...                  \n",
       "389                                             Normal                  \n",
       "390                                            Abnorml                  \n",
       "391                                            AdjLand                  \n",
       "392                                             Family                  \n",
       "393                                            Partial                  \n",
       "\n",
       "                                            Unnamed: 1  \n",
       "0                      1-STORY 1946 & NEWER ALL STYLES  \n",
       "1                                 1-STORY 1945 & OLDER  \n",
       "2                    1-STORY W/FINISHED ATTIC ALL AGES  \n",
       "3                    1-1/2 STORY - UNFINISHED ALL AGES  \n",
       "4                        1-1/2 STORY FINISHED ALL AGES  \n",
       "..                                                 ...  \n",
       "389                                        Normal Sale  \n",
       "390    Abnormal Sale -  trade, foreclosure, short sale  \n",
       "391                            Adjoining Land Purchase  \n",
       "392                        Sale between family members  \n",
       "393  Home was not completed when last assessed (ass...  \n",
       "\n",
       "[394 rows x 2 columns]"
      ]
     },
     "execution_count": 74,
     "metadata": {},
     "output_type": "execute_result"
    }
   ],
   "source": [
    "description"
   ]
  },
  {
   "cell_type": "code",
   "execution_count": null,
   "metadata": {},
   "outputs": [],
   "source": []
  },
  {
   "cell_type": "code",
   "execution_count": null,
   "metadata": {},
   "outputs": [],
   "source": []
  },
  {
   "cell_type": "code",
   "execution_count": 2,
   "metadata": {},
   "outputs": [
    {
     "name": "stdout",
     "output_type": "stream",
     "text": [
      "The File List are : ['data_description.txt', 'sample_submission.csv', 'test.csv', 'train.csv']\n"
     ]
    }
   ],
   "source": [
    "with zipfile.ZipFile('e:/house_price_prediction/Real-Estate-Price-Prediction/data/raw/zipped/house-prices-advanced-regression-techniques.zip','r') as zip_file:\n",
    "    file_list = zip_file.namelist()\n",
    "    print('The File List are :', file_list)"
   ]
  },
  {
   "cell_type": "code",
   "execution_count": null,
   "metadata": {},
   "outputs": [],
   "source": [
    "import logging\n",
    "from zipfile import ZipFile\n",
    "from pathlib import Path\n",
    "\n",
    "# Extract all zipped files\n",
    "def extract_all_file(input_path: Path, output_path: Path):\n",
    "    with ZipFile(file= input_path) as f:\n",
    "        f.extractall(path= output_path)\n",
    "\n",
    "def main():\n",
    "    # current file path \n",
    "    current_path = Path(__file__)\n",
    "    # root directory path\n",
    "    root_path = current_path.parent.parent.parent\n",
    "    # raw data directory path\n",
    "    raw_data_path = root_path / 'data' / 'raw'\n",
    "    # output path for the zip files\n",
    "    output_path = raw_data_path / 'extracted'\n",
    "    # make the directory for the path\n",
    "    output_path.mkdir(parents=True,exist_ok=True)\n",
    "    # input path for zip files\n",
    "    input_path = raw_data_path / 'zipped'\n",
    "\n",
    "    \n",
    "\n",
    "\n",
    "# Extract all files\n",
    "extract_all_file(input_path = input_path,#/'house-prices-advanced-regression-techniques.zip',\n",
    "                 output_path = output_path)\n",
    "\n",
    "# call the main function\n",
    "if __name__ == '__main__':\n",
    "    main()\n",
    "\n"
   ]
  }
 ],
 "metadata": {
  "kernelspec": {
   "display_name": "housepy",
   "language": "python",
   "name": "python3"
  },
  "language_info": {
   "codemirror_mode": {
    "name": "ipython",
    "version": 3
   },
   "file_extension": ".py",
   "mimetype": "text/x-python",
   "name": "python",
   "nbconvert_exporter": "python",
   "pygments_lexer": "ipython3",
   "version": "3.13.0"
  }
 },
 "nbformat": 4,
 "nbformat_minor": 4
}
